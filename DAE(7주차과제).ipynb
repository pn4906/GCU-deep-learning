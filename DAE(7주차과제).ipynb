{
 "cells": [
  {
   "cell_type": "markdown",
   "id": "f5b8d424-1834-4d42-92e1-3f90527fb792",
   "metadata": {},
   "source": [
    "1. 정상/비정상 데이터 정의\n",
    "- 정상 데이터: Lying 상태 데이터.\n",
    "- 비정상 데이터: 특정 활동 (예: Walking 또는 다른 Activity) 데이터.\n",
    "\n",
    "2. 오토인코더\n",
    "- 대칭형 (Encoder와 Decoder 구조 동일).\n",
    "- 비대칭형 (Encoder와 Decoder 구조 다름).\n",
    "\n",
    "3. DAE(Denoising Autoencoder)\n",
    "- 노이즈를 추가한 입력으로 학습하여 모델의 이상치 탐지 성능 확인."
   ]
  },
  {
   "cell_type": "code",
   "execution_count": 12,
   "id": "418e691d-cf79-49d1-a372-6c7f93601bb7",
   "metadata": {},
   "outputs": [],
   "source": [
    "import pandas as pd\n",
    "from sklearn.model_selection import train_test_split\n",
    "from sklearn.preprocessing import MinMaxScaler\n",
    "from tensorflow.keras.models import Model, Sequential\n",
    "from tensorflow.keras.layers import Input, Dense, Dropout\n",
    "import numpy as np"
   ]
  },
  {
   "cell_type": "code",
   "execution_count": 18,
   "id": "0c216d43-cd0e-465b-b809-078034586543",
   "metadata": {},
   "outputs": [],
   "source": [
    "dsa_data = pd.read_csv(\"C:/datasets/DSA_features.csv\")"
   ]
  },
  {
   "cell_type": "markdown",
   "id": "83b2cc18-0e82-4915-9c33-5040ca690711",
   "metadata": {},
   "source": [
    "정상 및 비정상 데이터 분류\n",
    "\n",
    "정상 데이터로 간주할 활동: \"lyingBack\", \"lyingRigh\".\n",
    "비정상 데이터로 간주할 활동: \"runningTreadmill\"."
   ]
  },
  {
   "cell_type": "code",
   "execution_count": 19,
   "id": "8a71c304-6881-4033-930a-9e025c0a1639",
   "metadata": {},
   "outputs": [],
   "source": [
    "normal_activities = [\"lyingBack\", \"lyingRigh\"]\n",
    "abnormal_activity = \"runningTreadmill\""
   ]
  },
  {
   "cell_type": "code",
   "execution_count": 20,
   "id": "8c51c8f0-5e34-4cea-9c05-442a25f2efee",
   "metadata": {},
   "outputs": [],
   "source": [
    "normal_data = dsa_data[dsa_data[\"activity\"].isin(normal_activities)]\n",
    "abnormal_data = dsa_data[dsa_data[\"activity\"] == abnormal_activity]"
   ]
  },
  {
   "cell_type": "code",
   "execution_count": 21,
   "id": "15d2cc6b-406f-4055-9dcf-7ed3acc0f50e",
   "metadata": {},
   "outputs": [],
   "source": [
    "#데이터셋의 마지막 두 열(activity와 people)을 제외한 모든 열을 피처로 설정.\n",
    "feature_columns = dsa_data.columns[:-2]"
   ]
  },
  {
   "cell_type": "code",
   "execution_count": 22,
   "id": "ee7e349d-be20-46fd-a706-259a4d692d64",
   "metadata": {},
   "outputs": [],
   "source": [
    "X_normal = normal_data[feature_columns]\n",
    "X_abnormal = abnormal_data[feature_columns]"
   ]
  },
  {
   "cell_type": "markdown",
   "id": "23f6ae7f-b1d8-494e-bdd7-e42fa839e606",
   "metadata": {},
   "source": [
    "X_normal: 정상 데이터의 피처 값만 추출.\n",
    "X_abnormal: 비정상 데이터의 피처 값만 추출."
   ]
  },
  {
   "cell_type": "code",
   "execution_count": 24,
   "id": "3aecea28-e9f3-4b10-aa9e-588015bffa9a",
   "metadata": {},
   "outputs": [],
   "source": [
    "scaler = MinMaxScaler()\n",
    "X_normal_scaled = scaler.fit_transform(X_normal)\n",
    "X_abnormal_scaled = scaler.transform(X_abnormal)"
   ]
  },
  {
   "cell_type": "markdown",
   "id": "12d6518e-483e-40cb-a0b3-dc0341c05e2b",
   "metadata": {},
   "source": [
    "MinMaxScaler로 모든 피처 값을 0~1 범위로 정규화.\n",
    "\n",
    "fit_transform: 정상 데이터에 대해 스케일링 기준을 학습(fit)하고 데이터를 변환(transform).\n",
    "\n",
    "transform: 학습한 기준으로 비정상 데이터를 변환."
   ]
  },
  {
   "cell_type": "code",
   "execution_count": 25,
   "id": "b29a62ce-8e6d-4baa-94ae-45c2b032484b",
   "metadata": {},
   "outputs": [],
   "source": [
    "X_train, X_test = train_test_split(X_normal_scaled, test_size=0.2, random_state=42)"
   ]
  },
  {
   "cell_type": "markdown",
   "id": "5395ddff-850e-494e-8a50-7a45cc7d87f7",
   "metadata": {},
   "source": [
    "대칭형 오토인코더의 정의:\n",
    "\n",
    "1. 입력 차원(input_dim)을 받음.\n",
    "\n",
    "2. 128 → 64 → 128 → input_dim의 대칭 구조.\n",
    "\n",
    "3. 각 층은 활성화 함수(relu 또는 sigmoid)를 사용.\n",
    "\n",
    "4. 손실 함수로 MSE(Mean Squared Error)를 사용하여 입력 데이터를 재구성."
   ]
  },
  {
   "cell_type": "code",
   "execution_count": 26,
   "id": "5341675c-bb1c-4720-84cf-64f8fb2c2798",
   "metadata": {},
   "outputs": [],
   "source": [
    "def build_symmetric_autoencoder(input_dim):\n",
    "    \"\"\"Builds a symmetric autoencoder.\"\"\"\n",
    "    autoencoder = Sequential([\n",
    "        Dense(128, activation='relu', input_shape=(input_dim,)),\n",
    "        Dense(64, activation='relu'),\n",
    "        Dense(128, activation='relu'),\n",
    "        Dense(input_dim, activation='sigmoid')\n",
    "    ])\n",
    "    autoencoder.compile(optimizer='adam', loss='mse')\n",
    "    return autoencoder"
   ]
  },
  {
   "cell_type": "markdown",
   "id": "eff147fc-05f5-439b-bd51-c59a1ae391cc",
   "metadata": {},
   "source": [
    "비대칭형 오토인코더의 정의:\n",
    "\n",
    "1. 입력 차원(input_dim)을 받음.\n",
    "2. 128 → 32 → 64 → input_dim의 비대칭 구조."
   ]
  },
  {
   "cell_type": "code",
   "execution_count": 27,
   "id": "c42fc24c-2fc7-4a28-82d8-7fe5d0d2e492",
   "metadata": {},
   "outputs": [],
   "source": [
    "def build_asymmetric_autoencoder(input_dim):\n",
    "    \"\"\"Builds an asymmetric autoencoder.\"\"\"\n",
    "    autoencoder = Sequential([\n",
    "        Dense(128, activation='relu', input_shape=(input_dim,)),\n",
    "        Dense(32, activation='relu'),\n",
    "        Dense(64, activation='relu'),\n",
    "        Dense(input_dim, activation='sigmoid')\n",
    "    ])\n",
    "    autoencoder.compile(optimizer='adam', loss='mse')\n",
    "    return autoencoder"
   ]
  },
  {
   "cell_type": "markdown",
   "id": "4abbb7b8-6962-4f53-a82f-fa2ef22fc4f4",
   "metadata": {},
   "source": [
    "DAE (Denoising Autoencoder) 정의:\n",
    "\n",
    "노이즈를 추가하여 입력 데이터에서 일부 정보를 제거(Dropout)한 후 입력을 복원하도록 학습."
   ]
  },
  {
   "cell_type": "code",
   "execution_count": 28,
   "id": "cdfa91f1-ac45-4862-9a82-76c223096ddb",
   "metadata": {},
   "outputs": [],
   "source": [
    "def build_dae(input_dim, noise_factor=0.1):\n",
    "    \"\"\"Builds a denoising autoencoder.\"\"\"\n",
    "    input_layer = Input(shape=(input_dim,))\n",
    "    noisy_input = Dropout(noise_factor)(input_layer)\n",
    "    encoded = Dense(128, activation='relu')(noisy_input)\n",
    "    encoded = Dense(64, activation='relu')(encoded)\n",
    "    decoded = Dense(128, activation='relu')(encoded)\n",
    "    output_layer = Dense(input_dim, activation='sigmoid')(decoded)\n",
    "    dae = Model(inputs=input_layer, outputs=output_layer)\n",
    "    dae.compile(optimizer='adam', loss='mse')\n",
    "    return dae"
   ]
  },
  {
   "cell_type": "code",
   "execution_count": 30,
   "id": "e0521287-7055-4dc9-84e9-6268a9beffc0",
   "metadata": {},
   "outputs": [],
   "source": [
    "input_dim = X_train.shape[1]"
   ]
  },
  {
   "cell_type": "code",
   "execution_count": 31,
   "id": "d13d9ca5-bd33-4067-9d53-9681445208ef",
   "metadata": {},
   "outputs": [
    {
     "data": {
      "text/plain": [
       "<keras.src.callbacks.history.History at 0x244e1dcf680>"
      ]
     },
     "execution_count": 31,
     "metadata": {},
     "output_type": "execute_result"
    }
   ],
   "source": [
    "symmetric_ae = build_symmetric_autoencoder(input_dim)\n",
    "symmetric_ae.fit(X_train, X_train, epochs=50, batch_size=32, validation_data=(X_test, X_test), verbose=0)"
   ]
  },
  {
   "cell_type": "code",
   "execution_count": 32,
   "id": "275aca47-41c1-4941-8023-03aff7fdc30d",
   "metadata": {},
   "outputs": [
    {
     "data": {
      "text/plain": [
       "<keras.src.callbacks.history.History at 0x244dfbe26c0>"
      ]
     },
     "execution_count": 32,
     "metadata": {},
     "output_type": "execute_result"
    }
   ],
   "source": [
    "asymmetric_ae = build_asymmetric_autoencoder(input_dim)\n",
    "asymmetric_ae.fit(X_train, X_train, epochs=50, batch_size=32, validation_data=(X_test, X_test), verbose=0)"
   ]
  },
  {
   "cell_type": "code",
   "execution_count": 33,
   "id": "34d0a7d0-f264-4b51-ab0e-37e58f099960",
   "metadata": {},
   "outputs": [
    {
     "data": {
      "text/plain": [
       "<keras.src.callbacks.history.History at 0x244cfcc2c30>"
      ]
     },
     "execution_count": 33,
     "metadata": {},
     "output_type": "execute_result"
    }
   ],
   "source": [
    "dae = build_dae(input_dim, noise_factor=0.1)\n",
    "dae.fit(X_train, X_train, epochs=50, batch_size=32, validation_data=(X_test, X_test), verbose=0)"
   ]
  },
  {
   "cell_type": "code",
   "execution_count": 34,
   "id": "41136fda-b313-4136-afd1-79cf79d0d5eb",
   "metadata": {},
   "outputs": [
    {
     "name": "stdout",
     "output_type": "stream",
     "text": [
      "\u001b[1m15/15\u001b[0m \u001b[32m━━━━━━━━━━━━━━━━━━━━\u001b[0m\u001b[37m\u001b[0m \u001b[1m0s\u001b[0m 1ms/step \n",
      "\u001b[1m15/15\u001b[0m \u001b[32m━━━━━━━━━━━━━━━━━━━━\u001b[0m\u001b[37m\u001b[0m \u001b[1m0s\u001b[0m 1ms/step \n",
      "\u001b[1m15/15\u001b[0m \u001b[32m━━━━━━━━━━━━━━━━━━━━\u001b[0m\u001b[37m\u001b[0m \u001b[1m0s\u001b[0m 1ms/step \n"
     ]
    }
   ],
   "source": [
    "reconstructed_symmetric = symmetric_ae.predict(X_abnormal_scaled)\n",
    "reconstructed_asymmetric = asymmetric_ae.predict(X_abnormal_scaled)\n",
    "reconstructed_dae = dae.predict(X_abnormal_scaled)"
   ]
  },
  {
   "cell_type": "markdown",
   "id": "79924fa3-b440-413f-8d88-2e398552a4d4",
   "metadata": {},
   "source": [
    "비정상 데이터 이상치 탐지 : 비정상 데이터를 각각의 오토인코더에 입력하여 복원"
   ]
  },
  {
   "cell_type": "code",
   "execution_count": 35,
   "id": "6d91ada3-4b15-4124-ae4a-b3edd8b01ac0",
   "metadata": {},
   "outputs": [],
   "source": [
    "loss_symmetric = np.mean(np.mean(np.square(X_abnormal_scaled - reconstructed_symmetric), axis=1))\n",
    "loss_asymmetric = np.mean(np.mean(np.square(X_abnormal_scaled - reconstructed_asymmetric), axis=1))\n",
    "loss_dae = np.mean(np.mean(np.square(X_abnormal_scaled - reconstructed_dae), axis=1))"
   ]
  },
  {
   "cell_type": "markdown",
   "id": "c6cf65e6-8949-444a-b871-31fbb5dcbb3e",
   "metadata": {},
   "source": [
    "비정상 데이터의 MSE 계산: 복원된 출력과 실제 입력 간의 차이를 평균제곱오차로 계산"
   ]
  },
  {
   "cell_type": "code",
   "execution_count": 36,
   "id": "bef3c31c-aa47-4d4a-90f1-807aae76c9b1",
   "metadata": {},
   "outputs": [
    {
     "data": {
      "text/plain": [
       "(7626.879644458769, 7608.2895439847425, 7607.435556447733)"
      ]
     },
     "execution_count": 36,
     "metadata": {},
     "output_type": "execute_result"
    }
   ],
   "source": [
    "loss_symmetric, loss_asymmetric, loss_dae"
   ]
  },
  {
   "cell_type": "code",
   "execution_count": null,
   "id": "05fbb0ae-1fe8-4d00-81db-c2aa14cdc19c",
   "metadata": {},
   "outputs": [],
   "source": []
  }
 ],
 "metadata": {
  "kernelspec": {
   "display_name": "Python 3 (ipykernel)",
   "language": "python",
   "name": "python3"
  },
  "language_info": {
   "codemirror_mode": {
    "name": "ipython",
    "version": 3
   },
   "file_extension": ".py",
   "mimetype": "text/x-python",
   "name": "python",
   "nbconvert_exporter": "python",
   "pygments_lexer": "ipython3",
   "version": "3.12.4"
  }
 },
 "nbformat": 4,
 "nbformat_minor": 5
}
