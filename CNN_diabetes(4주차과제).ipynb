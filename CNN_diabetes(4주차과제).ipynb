{
 "cells": [
  {
   "cell_type": "code",
   "execution_count": 3,
   "id": "91bcbcb7-eacd-478b-b9f6-d275eb3819d8",
   "metadata": {},
   "outputs": [],
   "source": [
    "import torch\n",
    "import torch.nn as nn\n",
    "import torch.optim as optim\n",
    "from torch.utils.data import DataLoader, TensorDataset\n",
    "from sklearn.model_selection import train_test_split\n",
    "from sklearn.preprocessing import StandardScaler\n",
    "import numpy as np"
   ]
  },
  {
   "cell_type": "code",
   "execution_count": 5,
   "id": "157c5bce-9a6b-4663-a971-bb7402f0466d",
   "metadata": {},
   "outputs": [],
   "source": [
    "import pandas as pd\n",
    "df = pd.read_csv(\"C:/datasets/diabetes.csv\")"
   ]
  },
  {
   "cell_type": "code",
   "execution_count": 9,
   "id": "4eafe04f-c07f-478b-9b6d-247a8db2d53e",
   "metadata": {},
   "outputs": [],
   "source": [
    "# feature와 labels 분리\n",
    "features = df.drop('Outcome', axis=1)\n",
    "labels = df['Outcome']"
   ]
  },
  {
   "cell_type": "code",
   "execution_count": 10,
   "id": "90c4796d-ecf6-4bd9-862d-86274cc2bee4",
   "metadata": {},
   "outputs": [],
   "source": [
    "# 데이터 스케일링 \n",
    "scaler = StandardScaler()\n",
    "features_scaled = scaler.fit_transform(features)"
   ]
  },
  {
   "cell_type": "code",
   "execution_count": 11,
   "id": "457c5280-9377-4ab4-8403-471aba4d956e",
   "metadata": {},
   "outputs": [],
   "source": [
    "# 훈련데이터, 테스트데이터 분리\n",
    "X_train, X_test, y_train, y_test = train_test_split(features_scaled, labels, test_size=0.2, random_state=42)"
   ]
  },
  {
   "cell_type": "code",
   "execution_count": 12,
   "id": "def53bde-9416-456e-8df7-7036b8307de9",
   "metadata": {},
   "outputs": [],
   "source": [
    "# 데이터를 PyTorch 텐서로 변환\n",
    "X_train_tensor = torch.tensor(X_train, dtype=torch.float32)\n",
    "y_train_tensor = torch.tensor(y_train.values, dtype=torch.long)\n",
    "X_test_tensor = torch.tensor(X_test, dtype=torch.float32)\n",
    "y_test_tensor = torch.tensor(y_test.values, dtype=torch.long)"
   ]
  },
  {
   "cell_type": "code",
   "execution_count": 13,
   "id": "288e8e3e-8228-413f-a3d5-d45f8ec98b6f",
   "metadata": {},
   "outputs": [],
   "source": [
    "# DataLoader 생성\n",
    "train_dataset = TensorDataset(X_train_tensor, y_train_tensor)\n",
    "test_dataset = TensorDataset(X_test_tensor, y_test_tensor)\n",
    "train_loader = DataLoader(train_dataset, batch_size=16, shuffle=True)\n",
    "test_loader = DataLoader(test_dataset, batch_size=16, shuffle=False)"
   ]
  },
  {
   "cell_type": "code",
   "execution_count": 14,
   "id": "08a8db62-5207-4b03-bf20-1ea748828cf8",
   "metadata": {},
   "outputs": [],
   "source": [
    "# CNN 모델 정의\n",
    "class DiabetesCNN(nn.Module):\n",
    "    def __init__(self):\n",
    "        super(DiabetesCNN, self).__init__()\n",
    "        self.conv1 = nn.Conv1d(in_channels=1, out_channels=16, kernel_size=2, stride=1)\n",
    "        self.conv2 = nn.Conv1d(in_channels=16, out_channels=32, kernel_size=2, stride=1)\n",
    "        self.fc1 = nn.Linear(32 * 6, 64)\n",
    "        self.fc2 = nn.Linear(64, 2)\n",
    "\n",
    "    def forward(self, x):\n",
    "        x = x.unsqueeze(1)\n",
    "        x = torch.relu(self.conv1(x))\n",
    "        x = torch.relu(self.conv2(x))\n",
    "        x = x.view(x.size(0), -1)\n",
    "        x = torch.relu(self.fc1(x))\n",
    "        x = self.fc2(x)\n",
    "        return x\n",
    "\n",
    "model = DiabetesCNN()\n",
    "criterion = nn.CrossEntropyLoss()\n",
    "optimizer = optim.Adam(model.parameters(), lr=0.001)"
   ]
  },
  {
   "cell_type": "code",
   "execution_count": 15,
   "id": "2d8182f1-a412-420a-a254-5518861388c0",
   "metadata": {},
   "outputs": [],
   "source": [
    "# 모델 학습\n",
    "for epoch in range(10):  # 에포크 수 조정 가능\n",
    "    model.train()\n",
    "    for inputs, targets in train_loader:\n",
    "        optimizer.zero_grad()\n",
    "        outputs = model(inputs)\n",
    "        loss = criterion(outputs, targets)\n",
    "        loss.backward()\n",
    "        optimizer.step()"
   ]
  },
  {
   "cell_type": "code",
   "execution_count": 16,
   "id": "2b269929-0271-418a-99cd-c52cb1e8a776",
   "metadata": {},
   "outputs": [],
   "source": [
    "# 모델 저장\n",
    "torch.save(model.state_dict(), 'diabetes_cnn.pth')"
   ]
  },
  {
   "cell_type": "code",
   "execution_count": 17,
   "id": "7e4c53ec-b446-4e4d-b4d8-88068842aba3",
   "metadata": {},
   "outputs": [
    {
     "name": "stderr",
     "output_type": "stream",
     "text": [
      "C:\\Users\\yujin\\AppData\\Local\\Temp\\ipykernel_8380\\2004481485.py:3: FutureWarning: You are using `torch.load` with `weights_only=False` (the current default value), which uses the default pickle module implicitly. It is possible to construct malicious pickle data which will execute arbitrary code during unpickling (See https://github.com/pytorch/pytorch/blob/main/SECURITY.md#untrusted-models for more details). In a future release, the default value for `weights_only` will be flipped to `True`. This limits the functions that could be executed during unpickling. Arbitrary objects will no longer be allowed to be loaded via this mode unless they are explicitly allowlisted by the user via `torch.serialization.add_safe_globals`. We recommend you start setting `weights_only=True` for any use case where you don't have full control of the loaded file. Please open an issue on GitHub for any issues related to this experimental feature.\n",
      "  model.load_state_dict(torch.load('diabetes_cnn.pth'))\n"
     ]
    },
    {
     "data": {
      "text/plain": [
       "<All keys matched successfully>"
      ]
     },
     "execution_count": 17,
     "metadata": {},
     "output_type": "execute_result"
    }
   ],
   "source": [
    "# 저장된 모델 불러오기\n",
    "model = DiabetesCNN()\n",
    "model.load_state_dict(torch.load('diabetes_cnn.pth'))"
   ]
  },
  {
   "cell_type": "code",
   "execution_count": 21,
   "id": "74c3f60f-d850-4c11-8888-86e621054564",
   "metadata": {},
   "outputs": [],
   "source": [
    "# 추가적인 층 추가\n",
    "class FineTunedDiabetesCNN(nn.Module):\n",
    "    def __init__(self):\n",
    "        super(FineTunedDiabetesCNN, self).__init__()\n",
    "        self.base_model = model\n",
    "        self.fc3 = nn.Linear(2, 1)  # 새로운 출력층\n",
    "\n",
    "    def forward(self, x):\n",
    "        x = self.base_model(x)\n",
    "        x = torch.sigmoid(self.fc3(x))  # 이진 분류를 위한 시그모이드 출력\n",
    "        return x\n",
    "\n",
    "fine_tuned_model = FineTunedDiabetesCNN()"
   ]
  },
  {
   "cell_type": "code",
   "execution_count": 19,
   "id": "2bd2a686-85ca-4da6-ac90-178c1db288e1",
   "metadata": {},
   "outputs": [],
   "source": [
    "# 손실 함수 및 옵티마이저 재정의\n",
    "criterion = nn.BCELoss()  # 이진 분류 손실 함수\n",
    "optimizer = optim.Adam(fine_tuned_model.parameters(), lr=0.0001)"
   ]
  },
  {
   "cell_type": "code",
   "execution_count": 20,
   "id": "fe83008f-10dd-4215-8610-88d30faf2a11",
   "metadata": {},
   "outputs": [],
   "source": [
    "# 미세 조정 학습\n",
    "for epoch in range(5):\n",
    "    fine_tuned_model.train()\n",
    "    for inputs, targets in train_loader:\n",
    "        targets = targets.float().unsqueeze(1)  # BCE 손실을 위해 형태 변경\n",
    "        optimizer.zero_grad()\n",
    "        outputs = fine_tuned_model(inputs)\n",
    "        loss = criterion(outputs, targets)\n",
    "        loss.backward()\n",
    "        optimizer.step()"
   ]
  }
 ],
 "metadata": {
  "kernelspec": {
   "display_name": "Python 3 (ipykernel)",
   "language": "python",
   "name": "python3"
  },
  "language_info": {
   "codemirror_mode": {
    "name": "ipython",
    "version": 3
   },
   "file_extension": ".py",
   "mimetype": "text/x-python",
   "name": "python",
   "nbconvert_exporter": "python",
   "pygments_lexer": "ipython3",
   "version": "3.12.4"
  }
 },
 "nbformat": 4,
 "nbformat_minor": 5
}
