{
 "cells": [
  {
   "cell_type": "code",
   "execution_count": 1,
   "id": "ba4c5cb6-7011-4cc5-871f-81c6bf288f81",
   "metadata": {},
   "outputs": [],
   "source": [
    "import numpy as np"
   ]
  },
  {
   "cell_type": "code",
   "execution_count": 2,
   "id": "9eb40f8b-07df-41ba-8e43-37c2d6de6a9e",
   "metadata": {},
   "outputs": [],
   "source": [
    "# 단변량 시퀀스를 여러 샘플로 분할하는 함수\n",
    "def split_sequence(sequence, n_steps):\n",
    "    X, y = list(), list()\n",
    "    for i in range(len(sequence)):\n",
    "        # 현재 패턴의 끝 인덱스를 찾음\n",
    "        end_ix = i + n_steps\n",
    "        # 시퀀스 끝을 넘으면 중단\n",
    "        if end_ix > len(sequence)-1:\n",
    "            break\n",
    "        # 입력과 출력 부분을 나눔\n",
    "        seq_x, seq_y = sequence[i:end_ix], sequence[end_ix]\n",
    "        X.append(seq_x)\n",
    "        y.append(seq_y)\n",
    "    return np.array(X), np.array(y)"
   ]
  },
  {
   "cell_type": "code",
   "execution_count": 3,
   "id": "1b9aaed3-01e3-4682-ab3a-c7ff373a4a7d",
   "metadata": {},
   "outputs": [],
   "source": [
    "# 예제 시퀀스\n",
    "sequence = [10, 20, 30, 40, 50, 60, 70, 80, 90]\n",
    "\n",
    "# 분할할 스텝 수 설정\n",
    "n_steps = 3"
   ]
  },
  {
   "cell_type": "code",
   "execution_count": 4,
   "id": "be4db44d-a390-46dd-b9ff-b1bd89c8e024",
   "metadata": {},
   "outputs": [
    {
     "name": "stdout",
     "output_type": "stream",
     "text": [
      "X=[10 20 30], y=40\n",
      "X=[20 30 40], y=50\n",
      "X=[30 40 50], y=60\n",
      "X=[40 50 60], y=70\n",
      "X=[50 60 70], y=80\n",
      "X=[60 70 80], y=90\n"
     ]
    }
   ],
   "source": [
    "X, y = split_sequence(sequence, n_steps)\n",
    "\n",
    "for i in range(len(X)):\n",
    "    print(f\"X={X[i]}, y={y[i]}\")"
   ]
  }
 ],
 "metadata": {
  "kernelspec": {
   "display_name": "Python 3 (ipykernel)",
   "language": "python",
   "name": "python3"
  },
  "language_info": {
   "codemirror_mode": {
    "name": "ipython",
    "version": 3
   },
   "file_extension": ".py",
   "mimetype": "text/x-python",
   "name": "python",
   "nbconvert_exporter": "python",
   "pygments_lexer": "ipython3",
   "version": "3.12.4"
  }
 },
 "nbformat": 4,
 "nbformat_minor": 5
}
